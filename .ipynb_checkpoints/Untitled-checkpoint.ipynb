{
 "cells": [
  {
   "cell_type": "code",
   "execution_count": null,
   "id": "fd56ce1c",
   "metadata": {},
   "outputs": [],
   "source": [
    "import tensorflow as tf #pip install tensorflow-gpu\n",
    "import cv2 ##pip install opencv - python \n",
    "import os\n",
    "import matplotlib.pyplot as plt   ##pip instal matplotlib\n",
    "import numpy as np ##pip install numpy"
   ]
  }
 ],
 "metadata": {
  "kernelspec": {
   "display_name": "Python 3 (ipykernel)",
   "language": "python",
   "name": "python3"
  },
  "language_info": {
   "codemirror_mode": {
    "name": "ipython",
    "version": 3
   },
   "file_extension": ".py",
   "mimetype": "text/x-python",
   "name": "python",
   "nbconvert_exporter": "python",
   "pygments_lexer": "ipython3",
   "version": "3.9.13"
  }
 },
 "nbformat": 4,
 "nbformat_minor": 5
}
